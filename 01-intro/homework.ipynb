{
 "cells": [
  {
   "cell_type": "code",
   "execution_count": 9,
   "id": "a8384f68-e52f-47c0-802a-c8fed8e61f36",
   "metadata": {},
   "outputs": [],
   "source": [
    "import openai"
   ]
  },
  {
   "cell_type": "code",
   "execution_count": 10,
   "id": "ba42b578-c773-438d-80f0-45bf0ed991a9",
   "metadata": {},
   "outputs": [],
   "source": [
    "from openai import OpenAI"
   ]
  },
  {
   "cell_type": "code",
   "execution_count": null,
   "id": "6327712f-89aa-455f-8dd5-4ee633ce60ac",
   "metadata": {},
   "outputs": [],
   "source": [
    "client = OpenAI()"
   ]
  },
  {
   "cell_type": "code",
   "execution_count": 16,
   "id": "2f8f8ac0-b5e9-4f3d-b0a5-d102e66c6be3",
   "metadata": {},
   "outputs": [],
   "source": [
    "import os"
   ]
  },
  {
   "cell_type": "code",
   "execution_count": 17,
   "id": "e8c93089-992d-42ec-af17-121f820deefb",
   "metadata": {},
   "outputs": [],
   "source": [
    "response = client.chat.completions.create(\n",
    "    model='gpt-4o',\n",
    "    messages=[{\"role\": \"user\", \"content\": \"is it too late to join the course?\"}]\n",
    ")"
   ]
  },
  {
   "cell_type": "code",
   "execution_count": 25,
   "id": "30a0bdd4-1664-4016-95f0-98606602ecfd",
   "metadata": {},
   "outputs": [
    {
     "data": {
      "text/plain": [
       "\"I'm not sure which course you're referring to, as you didn't provide specific details. Course enrollment deadlines can vary widely depending on the institution or platform offering the course. Here are a few general steps you can take to determine if it's too late to join:\\n\\n1. **Check the Course Website or Platform:** Most courses will have official websites or pages on platforms like Coursera, edX, or university websites that display enrollment deadlines and start dates.\\n\\n2. **Contact the Instructor or Administration:** If possible, reach out directly to the course instructor or the administrative office of the institution offering the course. They can provide you with the most accurate and current information.\\n\\n3. **Look for Late Enrollment Options:** Some courses might have a late enrollment period or allow you to join a waiting list. There might also be options to audit the course or access recorded lectures.\\n\\n4. **Consider Future Offerings:** If it's too late for the current session, inquire if the course will be offered again in the near future and if you can register for it in advance.\\n\\nIf you provide more details, I could give you more specific guidance.\""
      ]
     },
     "execution_count": 25,
     "metadata": {},
     "output_type": "execute_result"
    }
   ],
   "source": [
    "response.choices[0].message.content"
   ]
  },
  {
   "cell_type": "code",
   "execution_count": null,
   "id": "af72ab7b-a9e9-48c6-b6fb-4266ad38100c",
   "metadata": {},
   "outputs": [],
   "source": []
  },
  {
   "cell_type": "code",
   "execution_count": null,
   "id": "6caf3c1d-bc2b-4e15-8c1c-3e26a6feff80",
   "metadata": {},
   "outputs": [],
   "source": []
  }
 ],
 "metadata": {
  "kernelspec": {
   "display_name": "Python 3 (ipykernel)",
   "language": "python",
   "name": "python3"
  },
  "language_info": {
   "codemirror_mode": {
    "name": "ipython",
    "version": 3
   },
   "file_extension": ".py",
   "mimetype": "text/x-python",
   "name": "python",
   "nbconvert_exporter": "python",
   "pygments_lexer": "ipython3",
   "version": "3.12.1"
  }
 },
 "nbformat": 4,
 "nbformat_minor": 5
}
